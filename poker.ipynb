{
 "cells": [
  {
   "cell_type": "code",
   "execution_count": 27,
   "id": "211ec1dc",
   "metadata": {},
   "outputs": [],
   "source": [
    "from itertools import product\n",
    "from random import shuffle\n",
    "\n",
    "  \n"
   ]
  },
  {
   "cell_type": "code",
   "execution_count": 56,
   "id": "0e20c5c7",
   "metadata": {},
   "outputs": [],
   "source": [
    "class PokerGame():\n",
    "    \n",
    "    def __init__(self, num_players):\n",
    "        self.num_players = num_players\n",
    "        # a list of all the suits\n",
    "        Suits = [\"d\", \"h\",\n",
    "                 \"c\", \"s\"]\n",
    "        # a list of all the ranks\n",
    "        Ranks = ['A', '2', '3', '4', '5',\n",
    "                 '6', '7', '8', '9', '10',\n",
    "                 'J', 'Q', 'K']\n",
    "        \n",
    "        \n",
    "        self.deck = list(product(Ranks, Suits))\n",
    "        shuffle(self.deck)\n",
    "\n",
    "    \n",
    "    def deal(self):\n",
    "        cards = []\n",
    "        \n",
    "        for i in range(self.num_players):\n",
    "            cards.append([deck.pop()])\n",
    "        \n",
    "        for i in range(self.num_players):\n",
    "            cards[i].append(deck.pop())\n",
    "        \n",
    "        return cards\n",
    "        \n",
    "        \n",
    "    def have_a_royal_flush(cards):\n",
    "        return False\n",
    "    \n",
    "    def have_a_straight_flush(cards):\n",
    "        return False\n",
    "    \n",
    "    def have_a_quad(cards):\n",
    "        return False\n",
    "    \n",
    "    def have_a_full_house(cards):\n",
    "        return False\n",
    "\n",
    "    def have_a_flush(cards):\n",
    "        return False\n",
    "\n",
    "    def have_a_straight(cards):\n",
    "        return False\n",
    "    \n",
    "    def have_a_set(cards):\n",
    "        return False\n",
    "    \n",
    "    def have_a_two_pair(cards):\n",
    "        return False\n",
    "    \n",
    "    def have_a_pair(cards):\n",
    "        return False\n",
    "    \n",
    "    def find_high(cards):\n",
    "        return 7\n",
    "    \n",
    "    def evaluate(self, hands):\n",
    "        rankings = []\n",
    "        \n",
    "        for hand in hands:\n",
    "            card_1 = hand[0]\n",
    "            card_2 = hand[1]\n",
    "            \n",
    "            \n",
    "        \n",
    "        "
   ]
  },
  {
   "cell_type": "code",
   "execution_count": 57,
   "id": "75d55303",
   "metadata": {},
   "outputs": [
    {
     "data": {
      "text/plain": [
       "[[('3', 'c'), ('Q', 's')], [('5', 'h'), ('5', 's')]]"
      ]
     },
     "execution_count": 57,
     "metadata": {},
     "output_type": "execute_result"
    }
   ],
   "source": [
    "game = PokerGame(2)\n",
    "cards = game.deal()\n",
    "cards"
   ]
  },
  {
   "cell_type": "code",
   "execution_count": 58,
   "id": "89252f15",
   "metadata": {},
   "outputs": [
    {
     "name": "stdout",
     "output_type": "stream",
     "text": [
      "('Q', 's')\n",
      "('5', 's')\n"
     ]
    }
   ],
   "source": [
    "game.evaluate(cards)"
   ]
  },
  {
   "cell_type": "code",
   "execution_count": 10,
   "id": "c868db35",
   "metadata": {},
   "outputs": [
    {
     "data": {
      "text/plain": [
       "4"
      ]
     },
     "execution_count": 10,
     "metadata": {},
     "output_type": "execute_result"
    }
   ],
   "source": []
  },
  {
   "cell_type": "code",
   "execution_count": 11,
   "id": "0c3afa24",
   "metadata": {},
   "outputs": [
    {
     "data": {
      "text/plain": [
       "[1]"
      ]
     },
     "execution_count": 11,
     "metadata": {},
     "output_type": "execute_result"
    }
   ],
   "source": [
    "a"
   ]
  },
  {
   "cell_type": "code",
   "execution_count": null,
   "id": "e533b729",
   "metadata": {},
   "outputs": [],
   "source": []
  }
 ],
 "metadata": {
  "kernelspec": {
   "display_name": "Python 3 (ipykernel)",
   "language": "python",
   "name": "python3"
  },
  "language_info": {
   "codemirror_mode": {
    "name": "ipython",
    "version": 3
   },
   "file_extension": ".py",
   "mimetype": "text/x-python",
   "name": "python",
   "nbconvert_exporter": "python",
   "pygments_lexer": "ipython3",
   "version": "3.11.1"
  }
 },
 "nbformat": 4,
 "nbformat_minor": 5
}
